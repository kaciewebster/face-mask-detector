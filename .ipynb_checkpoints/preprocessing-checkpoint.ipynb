{
 "cells": [
  {
   "cell_type": "markdown",
   "metadata": {},
   "source": [
    "## Resources\n",
    "\n",
    "- [Toward Data Science: Image Pre-Processing](https://towardsdatascience.com/image-pre-processing-c1aec0be3edf)\n",
    "\n",
    "- [Stack Abuse: Image Recognition](https://stackabuse.com/image-recognition-in-python-with-tensorflow-and-keras/)\n",
    "\n",
    "- [Toward Data Science: Image Recognition](https://towardsdatascience.com/image-recognition-with-machine-learning-on-python-image-processing-3abe6b158e9a)"
   ]
  },
  {
   "cell_type": "markdown",
   "metadata": {},
   "source": [
    "## Imports"
   ]
  },
  {
   "cell_type": "code",
   "execution_count": 28,
   "metadata": {},
   "outputs": [],
   "source": [
    "import glob\n",
    "import splitfolders\n",
    "\n",
    "import pandas as pd\n",
    "import numpy as np\n",
    "import matplotlib.pyplot as plt\n",
    "from skimage import io\n",
    "from skimage.transform import resize, rotate\n",
    "from skimage.color import rgb2gray\n",
    "\n",
    "import tensorflow as tf\n",
    "from tensorflow.keras import layers\n",
    "keras = tf.keras"
   ]
  },
  {
   "cell_type": "markdown",
   "metadata": {},
   "source": [
    "## Split Data"
   ]
  },
  {
   "cell_type": "code",
   "execution_count": 6,
   "metadata": {},
   "outputs": [
    {
     "name": "stderr",
     "output_type": "stream",
     "text": [
      "Copying files: 7553 files [00:05, 1490.23 files/s]\n"
     ]
    }
   ],
   "source": [
    "splitfolders.ratio('data', output='split-data', seed=123, ratio=(0.8, 0.2), group_prefix=None)"
   ]
  },
  {
   "cell_type": "markdown",
   "metadata": {},
   "source": [
    "## Load Data"
   ]
  },
  {
   "cell_type": "code",
   "execution_count": 2,
   "metadata": {},
   "outputs": [],
   "source": [
    "train = []\n",
    "\n",
    "for filename in glob.glob('split-data/train/with_mask/*.jpg'):\n",
    "    image = io.imread(filename)\n",
    "    train.append((image, 0))\n",
    "\n",
    "for filename in glob.glob('split-data/train/without_mask/*.jpg'):\n",
    "    image = io.imread(filename)\n",
    "    train.append((image, 1))"
   ]
  },
  {
   "cell_type": "code",
   "execution_count": 3,
   "metadata": {},
   "outputs": [],
   "source": [
    "test = []\n",
    "\n",
    "for filename in glob.glob('split-data/test/with_mask/*.jpg'):\n",
    "    image = io.imread(filename)\n",
    "    test.append((image, 0))\n",
    "\n",
    "for filename in glob.glob('split-data/test/without_mask/*.jpg'):\n",
    "    image = io.imread(filename)\n",
    "    test.append((image, 1))"
   ]
  },
  {
   "cell_type": "code",
   "execution_count": 4,
   "metadata": {},
   "outputs": [
    {
     "data": {
      "text/plain": [
       "7553"
      ]
     },
     "execution_count": 4,
     "metadata": {},
     "output_type": "execute_result"
    }
   ],
   "source": [
    "len(train) + len(test)"
   ]
  },
  {
   "cell_type": "code",
   "execution_count": 5,
   "metadata": {},
   "outputs": [],
   "source": [
    "# Shuffled data for randomness\n",
    "np.random.shuffle(train)\n",
    "np.random.shuffle(test)"
   ]
  },
  {
   "cell_type": "code",
   "execution_count": 6,
   "metadata": {},
   "outputs": [
    {
     "data": {
      "text/plain": [
       "7553"
      ]
     },
     "execution_count": 6,
     "metadata": {},
     "output_type": "execute_result"
    }
   ],
   "source": [
    "len(train) + len(test)"
   ]
  },
  {
   "cell_type": "code",
   "execution_count": 7,
   "metadata": {},
   "outputs": [
    {
     "data": {
      "text/plain": [
       "(199, 254, 3)"
      ]
     },
     "execution_count": 7,
     "metadata": {},
     "output_type": "execute_result"
    }
   ],
   "source": [
    "train[0][0].shape"
   ]
  },
  {
   "cell_type": "code",
   "execution_count": 8,
   "metadata": {},
   "outputs": [],
   "source": [
    "# Create image list and label list\n",
    "train_imgs = [data[0] for data in train]\n",
    "train_labels = [data[1] for data in train]\n",
    "test_imgs = [data[0] for data in test]\n",
    "test_labels = [data[1] for data in test]"
   ]
  },
  {
   "cell_type": "code",
   "execution_count": 9,
   "metadata": {},
   "outputs": [
    {
     "data": {
      "text/plain": [
       "7553"
      ]
     },
     "execution_count": 9,
     "metadata": {},
     "output_type": "execute_result"
    }
   ],
   "source": [
    "len(train_labels) + len(test_labels)"
   ]
  },
  {
   "cell_type": "code",
   "execution_count": 10,
   "metadata": {},
   "outputs": [
    {
     "data": {
      "text/plain": [
       "7553"
      ]
     },
     "execution_count": 10,
     "metadata": {},
     "output_type": "execute_result"
    }
   ],
   "source": [
    "len(train_imgs) + len(test_imgs)"
   ]
  },
  {
   "cell_type": "markdown",
   "metadata": {},
   "source": [
    "## Image Processing"
   ]
  },
  {
   "cell_type": "code",
   "execution_count": 11,
   "metadata": {},
   "outputs": [],
   "source": [
    "def _resize(img_list, rows, cols):\n",
    "    resize_imgs = []\n",
    "    for img in img_list:\n",
    "        resize_img = resize(img, (rows, cols))\n",
    "        resize_imgs.append(resize_img)\n",
    "    return resize_imgs"
   ]
  },
  {
   "cell_type": "code",
   "execution_count": 12,
   "metadata": {},
   "outputs": [],
   "source": [
    "train_resized = _resize(train_imgs, 300, 300)"
   ]
  },
  {
   "cell_type": "code",
   "execution_count": 13,
   "metadata": {},
   "outputs": [
    {
     "data": {
      "text/plain": [
       "(300, 300, 3)"
      ]
     },
     "execution_count": 13,
     "metadata": {},
     "output_type": "execute_result"
    }
   ],
   "source": [
    "train_resized[0].shape"
   ]
  },
  {
   "cell_type": "code",
   "execution_count": 14,
   "metadata": {},
   "outputs": [],
   "source": [
    "def _gray_scale(img_list):\n",
    "    gray_imgs = []\n",
    "    for img in img_list:\n",
    "        gray_imgs.append(rgb2gray(img))\n",
    "    return gray_imgs"
   ]
  },
  {
   "cell_type": "code",
   "execution_count": 15,
   "metadata": {},
   "outputs": [
    {
     "name": "stderr",
     "output_type": "stream",
     "text": [
      "/opt/anaconda3/lib/python3.7/site-packages/ipykernel_launcher.py:4: FutureWarning: Non RGB image conversion is now deprecated. For RGBA images, please use rgb2gray(rgba2rgb(rgb)) instead. In version 0.19, a ValueError will be raised if input image last dimension length is not 3.\n",
      "  after removing the cwd from sys.path.\n"
     ]
    }
   ],
   "source": [
    "train_gray = _gray_scale(train_resized)"
   ]
  },
  {
   "cell_type": "code",
   "execution_count": 16,
   "metadata": {},
   "outputs": [
    {
     "data": {
      "text/plain": [
       "(300, 300)"
      ]
     },
     "execution_count": 16,
     "metadata": {},
     "output_type": "execute_result"
    }
   ],
   "source": [
    "train_gray[0].shape"
   ]
  },
  {
   "cell_type": "code",
   "execution_count": 17,
   "metadata": {},
   "outputs": [],
   "source": [
    "def _flatten(img_list):\n",
    "    flat_imgs = []\n",
    "    for img in img_list:\n",
    "        flat_imgs.append(np.ravel(img))\n",
    "    return flat_imgs"
   ]
  },
  {
   "cell_type": "code",
   "execution_count": 18,
   "metadata": {},
   "outputs": [],
   "source": [
    "train_flattened = _flatten(train_gray)"
   ]
  },
  {
   "cell_type": "code",
   "execution_count": 19,
   "metadata": {},
   "outputs": [
    {
     "data": {
      "text/plain": [
       "(90000,)"
      ]
     },
     "execution_count": 19,
     "metadata": {},
     "output_type": "execute_result"
    }
   ],
   "source": [
    "train_flattened[0].shape"
   ]
  },
  {
   "cell_type": "code",
   "execution_count": 23,
   "metadata": {},
   "outputs": [
    {
     "data": {
      "image/png": "[encoded data removed]",
      "text/plain": [
       "<Figure size 432x288 with 1 Axes>"
      ]
     },
     "metadata": {
      "needs_background": "light"
     },
     "output_type": "display_data"
    }
   ],
   "source": [
    "plt.imshow(train_flattened[0].reshape(300, 300));"
   ]
  },
  {
   "cell_type": "code",
   "execution_count": 24,
   "metadata": {},
   "outputs": [],
   "source": [
    "test_resized = _resize(test_imgs, 300, 300)"
   ]
  },
  {
   "cell_type": "code",
   "execution_count": 25,
   "metadata": {},
   "outputs": [
    {
     "name": "stderr",
     "output_type": "stream",
     "text": [
      "/opt/anaconda3/lib/python3.7/site-packages/ipykernel_launcher.py:4: FutureWarning: Non RGB image conversion is now deprecated. For RGBA images, please use rgb2gray(rgba2rgb(rgb)) instead. In version 0.19, a ValueError will be raised if input image last dimension length is not 3.\n",
      "  after removing the cwd from sys.path.\n"
     ]
    }
   ],
   "source": [
    "test_gray = _gray_scale(test_resized)"
   ]
  },
  {
   "cell_type": "code",
   "execution_count": 26,
   "metadata": {},
   "outputs": [],
   "source": [
    "test_flattened = _flatten(test_gray)"
   ]
  },
  {
   "cell_type": "markdown",
   "metadata": {},
   "source": [
    "## Save Processed Images"
   ]
  },
  {
   "cell_type": "code",
   "execution_count": 32,
   "metadata": {},
   "outputs": [],
   "source": [
    "train_arrays = pd.DataFrame(train_flattened)"
   ]
  },
  {
   "cell_type": "code",
   "execution_count": 33,
   "metadata": {},
   "outputs": [
    {
     "data": {
      "text/plain": [
       "(6042, 90000)"
      ]
     },
     "execution_count": 33,
     "metadata": {},
     "output_type": "execute_result"
    }
   ],
   "source": [
    "train_arrays.shape"
   ]
  },
  {
   "cell_type": "code",
   "execution_count": 34,
   "metadata": {},
   "outputs": [
    {
     "data": {
      "text/html": [
       "<div>\n",
       "<style scoped>\n",
       "    .dataframe tbody tr th:only-of-type {\n",
       "        vertical-align: middle;\n",
       "    }\n",
       "\n",
       "    .dataframe tbody tr th {\n",
       "        vertical-align: top;\n",
       "    }\n",
       "\n",
       "    .dataframe thead th {\n",
       "        text-align: right;\n",
       "    }\n",
       "</style>\n",
       "<table border=\"1\" class=\"dataframe\">\n",
       "  <thead>\n",
       "    <tr style=\"text-align: right;\">\n",
       "      <th></th>\n",
       "      <th>0</th>\n",
       "      <th>1</th>\n",
       "      <th>2</th>\n",
       "      <th>3</th>\n",
       "      <th>4</th>\n",
       "      <th>5</th>\n",
       "      <th>6</th>\n",
       "      <th>7</th>\n",
       "      <th>8</th>\n",
       "      <th>9</th>\n",
       "      <th>...</th>\n",
       "      <th>89990</th>\n",
       "      <th>89991</th>\n",
       "      <th>89992</th>\n",
       "      <th>89993</th>\n",
       "      <th>89994</th>\n",
       "      <th>89995</th>\n",
       "      <th>89996</th>\n",
       "      <th>89997</th>\n",
       "      <th>89998</th>\n",
       "      <th>89999</th>\n",
       "    </tr>\n",
       "  </thead>\n",
       "  <tbody>\n",
       "    <tr>\n",
       "      <th>0</th>\n",
       "      <td>0.865402</td>\n",
       "      <td>0.834687</td>\n",
       "      <td>0.798681</td>\n",
       "      <td>0.775977</td>\n",
       "      <td>0.763813</td>\n",
       "      <td>0.752161</td>\n",
       "      <td>0.742875</td>\n",
       "      <td>0.762796</td>\n",
       "      <td>0.793581</td>\n",
       "      <td>0.827831</td>\n",
       "      <td>...</td>\n",
       "      <td>0.208893</td>\n",
       "      <td>0.185096</td>\n",
       "      <td>0.170715</td>\n",
       "      <td>0.204969</td>\n",
       "      <td>0.205104</td>\n",
       "      <td>0.205104</td>\n",
       "      <td>0.205104</td>\n",
       "      <td>0.205104</td>\n",
       "      <td>0.205104</td>\n",
       "      <td>0.205104</td>\n",
       "    </tr>\n",
       "    <tr>\n",
       "      <th>1</th>\n",
       "      <td>0.931812</td>\n",
       "      <td>0.930120</td>\n",
       "      <td>0.928636</td>\n",
       "      <td>0.927492</td>\n",
       "      <td>0.922002</td>\n",
       "      <td>0.918296</td>\n",
       "      <td>0.915175</td>\n",
       "      <td>0.912247</td>\n",
       "      <td>0.909319</td>\n",
       "      <td>0.908718</td>\n",
       "      <td>...</td>\n",
       "      <td>0.966886</td>\n",
       "      <td>0.972321</td>\n",
       "      <td>0.958622</td>\n",
       "      <td>0.981503</td>\n",
       "      <td>0.966043</td>\n",
       "      <td>0.891694</td>\n",
       "      <td>0.733419</td>\n",
       "      <td>0.678615</td>\n",
       "      <td>0.690134</td>\n",
       "      <td>0.728223</td>\n",
       "    </tr>\n",
       "    <tr>\n",
       "      <th>2</th>\n",
       "      <td>0.014227</td>\n",
       "      <td>0.014730</td>\n",
       "      <td>0.016998</td>\n",
       "      <td>0.018101</td>\n",
       "      <td>0.018368</td>\n",
       "      <td>0.019596</td>\n",
       "      <td>0.022023</td>\n",
       "      <td>0.022023</td>\n",
       "      <td>0.022604</td>\n",
       "      <td>0.019964</td>\n",
       "      <td>...</td>\n",
       "      <td>0.592168</td>\n",
       "      <td>0.585970</td>\n",
       "      <td>0.578649</td>\n",
       "      <td>0.572964</td>\n",
       "      <td>0.568760</td>\n",
       "      <td>0.565038</td>\n",
       "      <td>0.551676</td>\n",
       "      <td>0.538862</td>\n",
       "      <td>0.538058</td>\n",
       "      <td>0.535208</td>\n",
       "    </tr>\n",
       "    <tr>\n",
       "      <th>3</th>\n",
       "      <td>0.924583</td>\n",
       "      <td>0.924583</td>\n",
       "      <td>0.923351</td>\n",
       "      <td>0.921145</td>\n",
       "      <td>0.921145</td>\n",
       "      <td>0.921145</td>\n",
       "      <td>0.921145</td>\n",
       "      <td>0.921182</td>\n",
       "      <td>0.921541</td>\n",
       "      <td>0.921629</td>\n",
       "      <td>...</td>\n",
       "      <td>0.790662</td>\n",
       "      <td>0.786257</td>\n",
       "      <td>0.786257</td>\n",
       "      <td>0.786257</td>\n",
       "      <td>0.786257</td>\n",
       "      <td>0.786257</td>\n",
       "      <td>0.786257</td>\n",
       "      <td>0.786257</td>\n",
       "      <td>0.786257</td>\n",
       "      <td>0.786257</td>\n",
       "    </tr>\n",
       "    <tr>\n",
       "      <th>4</th>\n",
       "      <td>0.984609</td>\n",
       "      <td>0.973843</td>\n",
       "      <td>0.991784</td>\n",
       "      <td>0.989379</td>\n",
       "      <td>0.991371</td>\n",
       "      <td>0.986170</td>\n",
       "      <td>0.991906</td>\n",
       "      <td>0.988086</td>\n",
       "      <td>0.988713</td>\n",
       "      <td>0.987093</td>\n",
       "      <td>...</td>\n",
       "      <td>0.327172</td>\n",
       "      <td>0.389669</td>\n",
       "      <td>0.369205</td>\n",
       "      <td>0.156998</td>\n",
       "      <td>0.026029</td>\n",
       "      <td>0.007005</td>\n",
       "      <td>0.003725</td>\n",
       "      <td>0.011371</td>\n",
       "      <td>0.002589</td>\n",
       "      <td>0.015776</td>\n",
       "    </tr>\n",
       "  </tbody>\n",
       "</table>\n",
       "<p>5 rows × 90000 columns</p>\n",
       "</div>"
      ],
      "text/plain": [
       "      0         1         2         3         4         5         6      \\\n",
       "0  0.865402  0.834687  0.798681  0.775977  0.763813  0.752161  0.742875   \n",
       "1  0.931812  0.930120  0.928636  0.927492  0.922002  0.918296  0.915175   \n",
       "2  0.014227  0.014730  0.016998  0.018101  0.018368  0.019596  0.022023   \n",
       "3  0.924583  0.924583  0.923351  0.921145  0.921145  0.921145  0.921145   \n",
       "4  0.984609  0.973843  0.991784  0.989379  0.991371  0.986170  0.991906   \n",
       "\n",
       "      7         8         9      ...     89990     89991     89992     89993  \\\n",
       "0  0.762796  0.793581  0.827831  ...  0.208893  0.185096  0.170715  0.204969   \n",
       "1  0.912247  0.909319  0.908718  ...  0.966886  0.972321  0.958622  0.981503   \n",
       "2  0.022023  0.022604  0.019964  ...  0.592168  0.585970  0.578649  0.572964   \n",
       "3  0.921182  0.921541  0.921629  ...  0.790662  0.786257  0.786257  0.786257   \n",
       "4  0.988086  0.988713  0.987093  ...  0.327172  0.389669  0.369205  0.156998   \n",
       "\n",
       "      89994     89995     89996     89997     89998     89999  \n",
       "0  0.205104  0.205104  0.205104  0.205104  0.205104  0.205104  \n",
       "1  0.966043  0.891694  0.733419  0.678615  0.690134  0.728223  \n",
       "2  0.568760  0.565038  0.551676  0.538862  0.538058  0.535208  \n",
       "3  0.786257  0.786257  0.786257  0.786257  0.786257  0.786257  \n",
       "4  0.026029  0.007005  0.003725  0.011371  0.002589  0.015776  \n",
       "\n",
       "[5 rows x 90000 columns]"
      ]
     },
     "execution_count": 34,
     "metadata": {},
     "output_type": "execute_result"
    }
   ],
   "source": [
    "train_arrays.head()"
   ]
  },
  {
   "cell_type": "code",
   "execution_count": 37,
   "metadata": {},
   "outputs": [],
   "source": [
    "train_arrays.to_pickle('processed_train_images.pkl')\n"
   ]
  },
  {
   "cell_type": "code",
   "execution_count": 36,
   "metadata": {},
   "outputs": [],
   "source": [
    "test_arrays = pd.DataFrame(test_flattened)"
   ]
  },
  {
   "cell_type": "code",
   "execution_count": 38,
   "metadata": {},
   "outputs": [
    {
     "data": {
      "text/plain": [
       "(1511, 90000)"
      ]
     },
     "execution_count": 38,
     "metadata": {},
     "output_type": "execute_result"
    }
   ],
   "source": [
    "test_arrays.shape"
   ]
  },
  {
   "cell_type": "code",
   "execution_count": 39,
   "metadata": {},
   "outputs": [
    {
     "data": {
      "text/html": [
       "<div>\n",
       "<style scoped>\n",
       "    .dataframe tbody tr th:only-of-type {\n",
       "        vertical-align: middle;\n",
       "    }\n",
       "\n",
       "    .dataframe tbody tr th {\n",
       "        vertical-align: top;\n",
       "    }\n",
       "\n",
       "    .dataframe thead th {\n",
       "        text-align: right;\n",
       "    }\n",
       "</style>\n",
       "<table border=\"1\" class=\"dataframe\">\n",
       "  <thead>\n",
       "    <tr style=\"text-align: right;\">\n",
       "      <th></th>\n",
       "      <th>0</th>\n",
       "      <th>1</th>\n",
       "      <th>2</th>\n",
       "      <th>3</th>\n",
       "      <th>4</th>\n",
       "      <th>5</th>\n",
       "      <th>6</th>\n",
       "      <th>7</th>\n",
       "      <th>8</th>\n",
       "      <th>9</th>\n",
       "      <th>...</th>\n",
       "      <th>89990</th>\n",
       "      <th>89991</th>\n",
       "      <th>89992</th>\n",
       "      <th>89993</th>\n",
       "      <th>89994</th>\n",
       "      <th>89995</th>\n",
       "      <th>89996</th>\n",
       "      <th>89997</th>\n",
       "      <th>89998</th>\n",
       "      <th>89999</th>\n",
       "    </tr>\n",
       "  </thead>\n",
       "  <tbody>\n",
       "    <tr>\n",
       "      <th>0</th>\n",
       "      <td>0.524919</td>\n",
       "      <td>0.524919</td>\n",
       "      <td>0.524919</td>\n",
       "      <td>0.524919</td>\n",
       "      <td>0.524919</td>\n",
       "      <td>0.524919</td>\n",
       "      <td>0.524919</td>\n",
       "      <td>0.524919</td>\n",
       "      <td>0.524919</td>\n",
       "      <td>0.514399</td>\n",
       "      <td>...</td>\n",
       "      <td>0.547946</td>\n",
       "      <td>0.561850</td>\n",
       "      <td>0.576878</td>\n",
       "      <td>0.576878</td>\n",
       "      <td>0.562140</td>\n",
       "      <td>0.543999</td>\n",
       "      <td>0.550569</td>\n",
       "      <td>0.566795</td>\n",
       "      <td>0.567599</td>\n",
       "      <td>0.570449</td>\n",
       "    </tr>\n",
       "    <tr>\n",
       "      <th>1</th>\n",
       "      <td>0.819051</td>\n",
       "      <td>0.820016</td>\n",
       "      <td>0.820611</td>\n",
       "      <td>0.806145</td>\n",
       "      <td>0.799243</td>\n",
       "      <td>0.799591</td>\n",
       "      <td>0.819601</td>\n",
       "      <td>0.772988</td>\n",
       "      <td>0.580345</td>\n",
       "      <td>0.453351</td>\n",
       "      <td>...</td>\n",
       "      <td>0.707551</td>\n",
       "      <td>0.821681</td>\n",
       "      <td>0.859847</td>\n",
       "      <td>0.764936</td>\n",
       "      <td>0.610695</td>\n",
       "      <td>0.489252</td>\n",
       "      <td>0.488461</td>\n",
       "      <td>0.613568</td>\n",
       "      <td>0.681201</td>\n",
       "      <td>0.705776</td>\n",
       "    </tr>\n",
       "    <tr>\n",
       "      <th>2</th>\n",
       "      <td>0.698076</td>\n",
       "      <td>0.724342</td>\n",
       "      <td>0.753794</td>\n",
       "      <td>0.769127</td>\n",
       "      <td>0.768413</td>\n",
       "      <td>0.763738</td>\n",
       "      <td>0.759651</td>\n",
       "      <td>0.783440</td>\n",
       "      <td>0.814228</td>\n",
       "      <td>0.851058</td>\n",
       "      <td>...</td>\n",
       "      <td>0.852327</td>\n",
       "      <td>0.851329</td>\n",
       "      <td>0.847137</td>\n",
       "      <td>0.842665</td>\n",
       "      <td>0.838056</td>\n",
       "      <td>0.834417</td>\n",
       "      <td>0.833314</td>\n",
       "      <td>0.833314</td>\n",
       "      <td>0.833314</td>\n",
       "      <td>0.833314</td>\n",
       "    </tr>\n",
       "    <tr>\n",
       "      <th>3</th>\n",
       "      <td>0.175473</td>\n",
       "      <td>0.261966</td>\n",
       "      <td>0.665602</td>\n",
       "      <td>0.858305</td>\n",
       "      <td>0.999909</td>\n",
       "      <td>0.999931</td>\n",
       "      <td>0.999955</td>\n",
       "      <td>0.999984</td>\n",
       "      <td>0.987765</td>\n",
       "      <td>0.961412</td>\n",
       "      <td>...</td>\n",
       "      <td>0.088059</td>\n",
       "      <td>0.090255</td>\n",
       "      <td>0.097157</td>\n",
       "      <td>0.108137</td>\n",
       "      <td>0.119118</td>\n",
       "      <td>0.130098</td>\n",
       "      <td>0.113549</td>\n",
       "      <td>0.093627</td>\n",
       "      <td>0.062882</td>\n",
       "      <td>0.056294</td>\n",
       "    </tr>\n",
       "    <tr>\n",
       "      <th>4</th>\n",
       "      <td>0.620188</td>\n",
       "      <td>0.620188</td>\n",
       "      <td>0.620188</td>\n",
       "      <td>0.620188</td>\n",
       "      <td>0.620188</td>\n",
       "      <td>0.620188</td>\n",
       "      <td>0.620188</td>\n",
       "      <td>0.620188</td>\n",
       "      <td>0.620188</td>\n",
       "      <td>0.620188</td>\n",
       "      <td>...</td>\n",
       "      <td>0.204811</td>\n",
       "      <td>0.203654</td>\n",
       "      <td>0.203654</td>\n",
       "      <td>0.203654</td>\n",
       "      <td>0.203085</td>\n",
       "      <td>0.200693</td>\n",
       "      <td>0.199732</td>\n",
       "      <td>0.199732</td>\n",
       "      <td>0.199732</td>\n",
       "      <td>0.199732</td>\n",
       "    </tr>\n",
       "  </tbody>\n",
       "</table>\n",
       "<p>5 rows × 90000 columns</p>\n",
       "</div>"
      ],
      "text/plain": [
       "      0         1         2         3         4         5         6      \\\n",
       "0  0.524919  0.524919  0.524919  0.524919  0.524919  0.524919  0.524919   \n",
       "1  0.819051  0.820016  0.820611  0.806145  0.799243  0.799591  0.819601   \n",
       "2  0.698076  0.724342  0.753794  0.769127  0.768413  0.763738  0.759651   \n",
       "3  0.175473  0.261966  0.665602  0.858305  0.999909  0.999931  0.999955   \n",
       "4  0.620188  0.620188  0.620188  0.620188  0.620188  0.620188  0.620188   \n",
       "\n",
       "      7         8         9      ...     89990     89991     89992     89993  \\\n",
       "0  0.524919  0.524919  0.514399  ...  0.547946  0.561850  0.576878  0.576878   \n",
       "1  0.772988  0.580345  0.453351  ...  0.707551  0.821681  0.859847  0.764936   \n",
       "2  0.783440  0.814228  0.851058  ...  0.852327  0.851329  0.847137  0.842665   \n",
       "3  0.999984  0.987765  0.961412  ...  0.088059  0.090255  0.097157  0.108137   \n",
       "4  0.620188  0.620188  0.620188  ...  0.204811  0.203654  0.203654  0.203654   \n",
       "\n",
       "      89994     89995     89996     89997     89998     89999  \n",
       "0  0.562140  0.543999  0.550569  0.566795  0.567599  0.570449  \n",
       "1  0.610695  0.489252  0.488461  0.613568  0.681201  0.705776  \n",
       "2  0.838056  0.834417  0.833314  0.833314  0.833314  0.833314  \n",
       "3  0.119118  0.130098  0.113549  0.093627  0.062882  0.056294  \n",
       "4  0.203085  0.200693  0.199732  0.199732  0.199732  0.199732  \n",
       "\n",
       "[5 rows x 90000 columns]"
      ]
     },
     "execution_count": 39,
     "metadata": {},
     "output_type": "execute_result"
    }
   ],
   "source": [
    "test_arrays.head()"
   ]
  },
  {
   "cell_type": "code",
   "execution_count": 42,
   "metadata": {},
   "outputs": [],
   "source": [
    "test_arrays.to_pickle('processed_test_images.pkl')"
   ]
  },
  {
   "cell_type": "code",
   "execution_count": null,
   "metadata": {},
   "outputs": [],
   "source": []
  }
 ],
 "metadata": {
  "kernelspec": {
   "display_name": "Python 3",
   "language": "python",
   "name": "python3"
  },
  "language_info": {
   "codemirror_mode": {
    "name": "ipython",
    "version": 3
   },
   "file_extension": ".py",
   "mimetype": "text/x-python",
   "name": "python",
   "nbconvert_exporter": "python",
   "pygments_lexer": "ipython3",
   "version": "3.7.7"
  }
 },
 "nbformat": 4,
 "nbformat_minor": 4
}
